{
 "cells": [
  {
   "cell_type": "code",
   "execution_count": null,
   "id": "eefa2d82-2064-45ba-b116-1c3a9259d661",
   "metadata": {},
   "outputs": [
    {
     "name": "stdout",
     "output_type": "stream",
     "text": [
      "Hello...Welcome to the Library Management System \n",
      "Enter your login details: \n"
     ]
    }
   ],
   "source": [
    "#Create a Library Management System:-\n",
    "\n",
    "Username=\"book\"\n",
    "Password=\"123\"\n",
    "books = {\"English\":20, \"Hindi\":20, \"Science\":15, \"Maths\":25, \"Arts\":10}\n",
    "display = {}\n",
    "data = {}\n",
    "    \n",
    "while True:\n",
    "    print(\"Hello...Welcome to the Library Management System \")\n",
    "    print(\"Enter your login details: \")\n",
    "    \n",
    "    un=input(\"Enter Username: \")\n",
    "    if un==Username:\n",
    "        ps=input(\"Enter Password: \")\n",
    "        if ps==Password:\n",
    "            print(\"Login Successfully..\")\n",
    "        else:\n",
    "            print(\"Wrong Password..try again! \")\n",
    "            continue\n",
    "    else:\n",
    "        print(\"Wrong Username..try again! \")\n",
    "        continue\n",
    "    print()\n",
    "    Name = input(\"Enter your name: \").capitalize()\n",
    "    while True:\n",
    "\n",
    "        print()\n",
    "        print(\"Available books in the library..\", books)\n",
    "        print()\n",
    "        print(\"Select the option between 1-3 \")\n",
    "        print(\"\"\"\n",
    "            1. Borrow books\n",
    "            2. Return books\n",
    "            3. Display borrowed books along with person's name\"\"\")\n",
    "        choice = int(input(\"Enter your selected option: \"))\n",
    "        \n",
    "        if choice == 1:\n",
    "            print()\n",
    "            bb = input(\"Enter the book you want to borrow: \").capitalize()\n",
    "            bn = int(input(\"Enter the num of books you want to borrow: \"))\n",
    "            if bb in books.keys():\n",
    "                if books[bb] > 0:\n",
    "                    books[bb]-=bn\n",
    "                    data[bb] = bn\n",
    "                    display[Name] = data\n",
    "                    print(display)\n",
    "                else:\n",
    "                    print(\"No more\",bb, \"book is available!\")\n",
    "            else:\n",
    "                print(bb,\",Book is not available in the library.\")\n",
    "            \n",
    "        elif choice == 2:\n",
    "            print()\n",
    "            rb = input(\"Enter the book you want to return: \").capitalize()\n",
    "            rn = int(input(\"Enter the num of books you want to return: \"))\n",
    "            if rb in data.keys():\n",
    "                if rn <= bn:\n",
    "                    books[rb]+=rn\n",
    "                    data[rb]-=rn \n",
    "                    display[Name] = data\n",
    "                else:\n",
    "                    print(\"Kindly enter the correct number!\")\n",
    "            else:\n",
    "                print(\"This book is not borrowed yet!\")\n",
    "            \n",
    "        elif choice == 3:\n",
    "            if display == {}:\n",
    "                print(\"No books borrowed yet!\")\n",
    "            else:\n",
    "               for i,j in display.items():\n",
    "                   print() \n",
    "                   print(i, \":\", j)\n",
    "        else:\n",
    "            print(\"Wrong input..try again!\")\n",
    "            break\n",
    "       "
   ]
  },
  {
   "cell_type": "code",
   "execution_count": null,
   "id": "05919b2a-562b-4632-b95c-cb78996033eb",
   "metadata": {},
   "outputs": [],
   "source": []
  },
  {
   "cell_type": "code",
   "execution_count": null,
   "id": "7577f186-5ea2-4cbc-acff-a7b3e8486070",
   "metadata": {},
   "outputs": [],
   "source": []
  },
  {
   "cell_type": "code",
   "execution_count": null,
   "id": "340076a0-f30b-47fc-8b24-082d812c3d59",
   "metadata": {},
   "outputs": [],
   "source": []
  }
 ],
 "metadata": {
  "kernelspec": {
   "display_name": "Python 3 (ipykernel)",
   "language": "python",
   "name": "python3"
  },
  "language_info": {
   "codemirror_mode": {
    "name": "ipython",
    "version": 3
   },
   "file_extension": ".py",
   "mimetype": "text/x-python",
   "name": "python",
   "nbconvert_exporter": "python",
   "pygments_lexer": "ipython3",
   "version": "3.11.5"
  }
 },
 "nbformat": 4,
 "nbformat_minor": 5
}
