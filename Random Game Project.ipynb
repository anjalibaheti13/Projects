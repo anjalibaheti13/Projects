{
 "cells": [
  {
   "cell_type": "markdown",
   "id": "ab355257-f329-40b4-9bf2-0d8160608e40",
   "metadata": {},
   "source": [
    "Random Game Project:-"
   ]
  },
  {
   "cell_type": "code",
   "execution_count": null,
   "id": "f4b87179-c03a-430f-ad84-4ab252925b67",
   "metadata": {},
   "outputs": [
    {
     "name": "stdin",
     "output_type": "stream",
     "text": [
      "Enter your Name:  anjali\n"
     ]
    },
    {
     "name": "stdout",
     "output_type": "stream",
     "text": [
      "Welcome to the game, Anjali\n"
     ]
    },
    {
     "name": "stdin",
     "output_type": "stream",
     "text": [
      "Enter your choice (rock,paper,scissor):  paper\n"
     ]
    },
    {
     "name": "stdout",
     "output_type": "stream",
     "text": [
      "You chose:  paper and Computer chose:  rock\n",
      "Papers covers rock.. You Won!\n"
     ]
    }
   ],
   "source": [
    "import random\n",
    "action = [\"rock\", \"paper\", \"scissor\"]\n",
    "\n",
    "Name = input(\"Enter your Name: \").capitalize()\n",
    "print(\"Welcome to the game,\", Name)\n",
    "\n",
    "while True:\n",
    "\n",
    "    user = input(\"Enter your choice (rock,paper,scissor): \")\n",
    "    comp = random.choice(action)\n",
    "    print(\"You chose: \", user, \"and Computer chose: \", comp)\n",
    "    \n",
    "    if user == comp:\n",
    "        print(\"Both players selected\", user,\"..It's a tie!\")\n",
    "    elif user == \"rock\":\n",
    "        if comp == \"scissor\":\n",
    "            print(\"Rock smashes scissor.. You Won!\")\n",
    "        else:\n",
    "            print(\"Paper covers rock.. You lose!\")\n",
    "    elif user == \"paper\":\n",
    "        if comp == \"rock\":\n",
    "            print(\"Papers covers rock.. You Won!\")\n",
    "        else:\n",
    "            print(\"Scissor cuts paper.. You lose!\")\n",
    "    elif user == \"scissor\":\n",
    "        if comp == \"paper\":\n",
    "            print(\"Scissor cuts paper.. You Won!\")\n",
    "        else:\n",
    "            print(\"Rock smashes scissor.. You lose!\")\n",
    "\n",
    "    again = input(\"Do you want to play again? (yes/no): \")\n",
    "    if again == \"no\":\n",
    "        break"
   ]
  },
  {
   "cell_type": "code",
   "execution_count": null,
   "id": "b586ebe0-7f62-4187-8040-946b4168ba74",
   "metadata": {},
   "outputs": [],
   "source": []
  }
 ],
 "metadata": {
  "kernelspec": {
   "display_name": "Python 3 (ipykernel)",
   "language": "python",
   "name": "python3"
  },
  "language_info": {
   "codemirror_mode": {
    "name": "ipython",
    "version": 3
   },
   "file_extension": ".py",
   "mimetype": "text/x-python",
   "name": "python",
   "nbconvert_exporter": "python",
   "pygments_lexer": "ipython3",
   "version": "3.11.5"
  }
 },
 "nbformat": 4,
 "nbformat_minor": 5
}
