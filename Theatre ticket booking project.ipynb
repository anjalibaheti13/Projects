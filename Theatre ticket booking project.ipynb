{
 "cells": [
  {
   "cell_type": "code",
   "execution_count": null,
   "id": "e6ebc749-9fcf-4049-928d-b382b378c346",
   "metadata": {},
   "outputs": [
    {
     "name": "stdout",
     "output_type": "stream",
     "text": [
      "Hello Sir/Ma'am!... Welcome to our theatre \n"
     ]
    },
    {
     "name": "stdin",
     "output_type": "stream",
     "text": [
      "Enter your Name:  Anjali\n",
      "Enter your phone number:  8770859112\n"
     ]
    },
    {
     "name": "stdout",
     "output_type": "stream",
     "text": [
      "1. Normal seats (price- 150/-)\n",
      "    2. Mezzanine seats (price- 280/-)\n",
      "    3. Balcony seats (price- 400/-)\n",
      "Limited seats are available..\n"
     ]
    },
    {
     "name": "stdin",
     "output_type": "stream",
     "text": [
      "How many seats you want to book?  31\n",
      "Enter your choice between 1, 2 or 3:  3\n"
     ]
    },
    {
     "name": "stdout",
     "output_type": "stream",
     "text": [
      "Sorry, no more balcony seats are available..\n",
      "            Kindly book either normal or mezzanine seats.\n",
      "Hello Sir/Ma'am!... Welcome to our theatre \n"
     ]
    }
   ],
   "source": [
    "#create Theatre ticket booking system\n",
    "\n",
    "total_seats = 150\n",
    "normal_seats = 100\n",
    "mezzanine_seats = 50\n",
    "balcony_seats = 30\n",
    "\n",
    "nor_seat_price = 150\n",
    "mez_seat_price = 280\n",
    "bal_seat_price = 400\n",
    "\n",
    "total=0\n",
    "combo_price =350\n",
    "\n",
    "\n",
    "\n",
    "while True:\n",
    "    print(\"Hello Sir/Ma'am!... Welcome to our theatre \")\n",
    "    cus_name= input(\"Enter your Name: \")\n",
    "    ph_no = int(input(\"Enter your phone number: \"))\n",
    "\n",
    "    \n",
    "    print(\"\"\"1. Normal seats (price- 150/-)\n",
    "    2. Mezzanine seats (price- 280/-)\n",
    "    3. Balcony seats (price- 400/-)\"\"\")\n",
    "        \n",
    "    print(\"Limited seats are available..\")\n",
    "    seats = int(input(\"How many seats you want to book? \"))\n",
    "    choice= int(input(\"Enter your choice between 1, 2 or 3: \"))\n",
    "    if choice == 1:\n",
    "        if seats > normal_seats:\n",
    "            print('''Sorry, no more normal seats are available..\n",
    "            Kindly book either mezzanine or balcony seats.''')\n",
    "            continue\n",
    "        else:\n",
    "            print(\"Food combo is also available..., (combo:- popcorn + cold drink + potato fingers [350/-])\")\n",
    "            combo = input(\"Do you want to add combo? (yes/no) \")\n",
    "            if combo == \"yes\":\n",
    "                print(\"Yeah! combo is added successfully.\")\n",
    "                total=seats*nor_seat_price\n",
    "                total+=combo_price\n",
    "            else:\n",
    "                print(\"Ok, not an issue! \")\n",
    "                total=seats*nor_seat_price        \n",
    "           \n",
    "            \n",
    "    elif choice == 2:\n",
    "        if seats > mezzanine_seats:\n",
    "            print('''Sorry, no more mezzanine seats are available..\n",
    "            Kindly book either normal or balcony seats.''')\n",
    "            continue\n",
    "        else:\n",
    "            print(\"Food combo is also available...(combo:- popcorn + cold drink + potato fingers [350/-])\")\n",
    "            combo = input(\"Do you want to add combo? (yes/no) \")\n",
    "            if combo == \"yes\":\n",
    "                print(\"Yeah! combo is added successfully.\")\n",
    "                total=seats*mez_seat_price\n",
    "                total+=combo_price\n",
    "            else:\n",
    "                print(\"Ok, not an issue! \")\n",
    "                total=seats*mez_seat_price  \n",
    "    \n",
    "    elif choice == 3:\n",
    "        if seats > balcony_seats:\n",
    "            print('''Sorry, no more balcony seats are available..\n",
    "            Kindly book either normal or mezzanine seats.''')\n",
    "            continue\n",
    "        else:\n",
    "            print(\"Food combo is also available..., (combo:- popcorn + cold drink + potato fingers [350/-])\")\n",
    "            combo = input(\"Do you want to add combo? (yes/no) \")\n",
    "            if combo == \"yes\":\n",
    "                print(\"Yeah! combo is added successfully.\")\n",
    "                total=seats*bal_seat_price\n",
    "                total+=combo_price\n",
    "            else:\n",
    "                print(\"Ok, not an issue! \")\n",
    "                total=seats*bal_seat_price  \n",
    "    else:\n",
    "        print(\"Invalid input...try again\")\n",
    "        continue\n",
    "                    \n",
    "    print(\"-\"*30)\n",
    "    print(\"Customer's name: \",cus_name)\n",
    "    print(\"Customer's phone number: \",ph_no)\n",
    "    print(\"Bill: \",total)\n",
    "    print(\"-\"*30)\n",
    "            \n",
    "    next=input(\"Next Person? (yes/no)\")\n",
    "    if next == \"no\":\n",
    "        break"
   ]
  },
  {
   "cell_type": "code",
   "execution_count": null,
   "id": "0689abb7-ca0d-43fc-a512-fb667748d9fd",
   "metadata": {},
   "outputs": [],
   "source": []
  },
  {
   "cell_type": "code",
   "execution_count": null,
   "id": "2e1cb4f0-331a-418c-85b2-079b85cc1c21",
   "metadata": {},
   "outputs": [],
   "source": []
  },
  {
   "cell_type": "code",
   "execution_count": null,
   "id": "c71a8f78-0a23-417c-98a3-7f825a3bebc0",
   "metadata": {},
   "outputs": [],
   "source": []
  },
  {
   "cell_type": "code",
   "execution_count": null,
   "id": "62eda5e7-6eb3-44a1-9a0f-04299053d196",
   "metadata": {},
   "outputs": [],
   "source": []
  }
 ],
 "metadata": {
  "kernelspec": {
   "display_name": "Python 3 (ipykernel)",
   "language": "python",
   "name": "python3"
  },
  "language_info": {
   "codemirror_mode": {
    "name": "ipython",
    "version": 3
   },
   "file_extension": ".py",
   "mimetype": "text/x-python",
   "name": "python",
   "nbconvert_exporter": "python",
   "pygments_lexer": "ipython3",
   "version": "3.11.5"
  }
 },
 "nbformat": 4,
 "nbformat_minor": 5
}
