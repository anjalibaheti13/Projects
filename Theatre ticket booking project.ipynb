{
 "cells": [
  {
   "cell_type": "code",
   "execution_count": 7,
   "id": "e6ebc749-9fcf-4049-928d-b382b378c346",
   "metadata": {},
   "outputs": [
    {
     "name": "stdout",
     "output_type": "stream",
     "text": [
      "Hello Sir/Ma'am!... Welcome to our theatre \n"
     ]
    },
    {
     "name": "stdin",
     "output_type": "stream",
     "text": [
      "Enter your Name:  Anjali\n",
      "Enter your phone number:  8770859112\n"
     ]
    },
    {
     "name": "stdout",
     "output_type": "stream",
     "text": [
      "1. Normal seats (price- 150/-)\n",
      "    2. Mezzanine seats (price- 280/-)\n",
      "    3. Balcony seats (price- 400/-)\n",
      "Limited seats are available..\n"
     ]
    },
    {
     "name": "stdin",
     "output_type": "stream",
     "text": [
      "How many seats you want to book?  5\n",
      "Enter your choice between 1, 2 or 3:  3\n"
     ]
    },
    {
     "name": "stdout",
     "output_type": "stream",
     "text": [
      "Food combo is also available..., (combo:- popcorn + cold drink + potato fingers [350/-])\n"
     ]
    },
    {
     "name": "stdin",
     "output_type": "stream",
     "text": [
      "Do you want to add combo? (yes/no)  yes\n"
     ]
    },
    {
     "name": "stdout",
     "output_type": "stream",
     "text": [
      "Yeah! combo is added successfully.\n",
      "------------------------------\n",
      "Customer's name:  Anjali\n",
      "Customer's phone number:  8770859112\n",
      "Bill:  2350\n",
      "------------------------------\n"
     ]
    },
    {
     "name": "stdin",
     "output_type": "stream",
     "text": [
      "Next Person?  yes\n"
     ]
    },
    {
     "name": "stdout",
     "output_type": "stream",
     "text": [
      "Hello Sir/Ma'am!... Welcome to our theatre \n"
     ]
    },
    {
     "name": "stdin",
     "output_type": "stream",
     "text": [
      "Enter your Name:  Anshika\n",
      "Enter your phone number:  8974736764\n"
     ]
    },
    {
     "name": "stdout",
     "output_type": "stream",
     "text": [
      "1. Normal seats (price- 150/-)\n",
      "    2. Mezzanine seats (price- 280/-)\n",
      "    3. Balcony seats (price- 400/-)\n",
      "Limited seats are available..\n"
     ]
    },
    {
     "name": "stdin",
     "output_type": "stream",
     "text": [
      "How many seats you want to book?  2\n",
      "Enter your choice between 1, 2 or 3:  2\n"
     ]
    },
    {
     "name": "stdout",
     "output_type": "stream",
     "text": [
      "Food combo is also available...(combo:- popcorn + cold drink + potato fingers [350/-])\n"
     ]
    },
    {
     "name": "stdin",
     "output_type": "stream",
     "text": [
      "Do you want to add combo? (yes/no)  no\n"
     ]
    },
    {
     "name": "stdout",
     "output_type": "stream",
     "text": [
      "Ok, not an issue! \n",
      "------------------------------\n",
      "Customer's name:  Anshika\n",
      "Customer's phone number:  8974736764\n",
      "Bill:  560\n",
      "------------------------------\n"
     ]
    },
    {
     "name": "stdin",
     "output_type": "stream",
     "text": [
      "Next Person?  yes\n"
     ]
    },
    {
     "name": "stdout",
     "output_type": "stream",
     "text": [
      "Hello Sir/Ma'am!... Welcome to our theatre \n"
     ]
    },
    {
     "name": "stdin",
     "output_type": "stream",
     "text": [
      "Enter your Name:  Ayush\n",
      "Enter your phone number:  6789064534\n"
     ]
    },
    {
     "name": "stdout",
     "output_type": "stream",
     "text": [
      "1. Normal seats (price- 150/-)\n",
      "    2. Mezzanine seats (price- 280/-)\n",
      "    3. Balcony seats (price- 400/-)\n",
      "Limited seats are available..\n"
     ]
    },
    {
     "name": "stdin",
     "output_type": "stream",
     "text": [
      "How many seats you want to book?  1\n",
      "Enter your choice between 1, 2 or 3:  4\n"
     ]
    },
    {
     "name": "stdout",
     "output_type": "stream",
     "text": [
      "Invalid input...try again\n",
      "Hello Sir/Ma'am!... Welcome to our theatre \n"
     ]
    },
    {
     "name": "stdin",
     "output_type": "stream",
     "text": [
      "Enter your Name:  Sarthak\n",
      "Enter your phone number:  5678954637\n"
     ]
    },
    {
     "name": "stdout",
     "output_type": "stream",
     "text": [
      "1. Normal seats (price- 150/-)\n",
      "    2. Mezzanine seats (price- 280/-)\n",
      "    3. Balcony seats (price- 400/-)\n",
      "Limited seats are available..\n"
     ]
    },
    {
     "name": "stdin",
     "output_type": "stream",
     "text": [
      "How many seats you want to book?  10\n",
      "Enter your choice between 1, 2 or 3:  1\n"
     ]
    },
    {
     "name": "stdout",
     "output_type": "stream",
     "text": [
      "Food combo is also available..., (combo:- popcorn + cold drink + potato fingers [350/-])\n"
     ]
    },
    {
     "name": "stdin",
     "output_type": "stream",
     "text": [
      "Do you want to add combo? (yes/no)  yes\n"
     ]
    },
    {
     "name": "stdout",
     "output_type": "stream",
     "text": [
      "Yeah! combo is added successfully.\n",
      "------------------------------\n",
      "Customer's name:  Sarthak\n",
      "Customer's phone number:  5678954637\n",
      "Bill:  1850\n",
      "------------------------------\n"
     ]
    },
    {
     "name": "stdin",
     "output_type": "stream",
     "text": [
      "Next Person?  no\n"
     ]
    }
   ],
   "source": [
    "#create Theatre ticket booking system\n",
    "\n",
    "total_seats = 150\n",
    "normal_seats = 100\n",
    "mezzanine_s = 50\n",
    "balcony_s = 30\n",
    "\n",
    "nor_seat_price = 150\n",
    "mez_seat_price = 280\n",
    "bal_seat_price = 400\n",
    "\n",
    "total=0\n",
    "combo_price =350\n",
    "\n",
    "\n",
    "\n",
    "while True:\n",
    "    print(\"Hello Sir/Ma'am!... Welcome to our theatre \")\n",
    "    cus_name= input(\"Enter your Name: \")\n",
    "    ph_no = int(input(\"Enter your phone number: \"))\n",
    "\n",
    "    \n",
    "    print(\"\"\"1. Normal seats (price- 150/-)\n",
    "    2. Mezzanine seats (price- 280/-)\n",
    "    3. Balcony seats (price- 400/-)\"\"\")\n",
    "        \n",
    "    print(\"Limited seats are available..\")\n",
    "    seats = int(input(\"How many seats you want to book? \"))\n",
    "    if seats > total_seats:\n",
    "        print(\"Sorry, no more seats are available..\")\n",
    "        break\n",
    "    else:\n",
    "        choice= int(input(\"Enter your choice between 1, 2 or 3: \"))\n",
    "        if choice == 1:\n",
    "            print(\"Food combo is also available..., (combo:- popcorn + cold drink + potato fingers [350/-])\")\n",
    "            combo = input(\"Do you want to add combo? (yes/no) \")\n",
    "            if combo == \"yes\":\n",
    "                print(\"Yeah! combo is added successfully.\")\n",
    "                total=seats*nor_seat_price\n",
    "                total+=combo_price\n",
    "            else:\n",
    "                print(\"Ok, not an issue! \")\n",
    "                total=seats*nor_seat_price        \n",
    "           \n",
    "            \n",
    "        elif choice == 2:\n",
    "            print(\"Food combo is also available...(combo:- popcorn + cold drink + potato fingers [350/-])\")\n",
    "            combo = input(\"Do you want to add combo? (yes/no) \")\n",
    "            if combo == \"yes\":\n",
    "                print(\"Yeah! combo is added successfully.\")\n",
    "                total=seats*mez_seat_price\n",
    "                total+=combo_price\n",
    "            else:\n",
    "                print(\"Ok, not an issue! \")\n",
    "                total=seats*mez_seat_price  \n",
    "        elif choice == 3:\n",
    "            print(\"Food combo is also available..., (combo:- popcorn + cold drink + potato fingers [350/-])\")\n",
    "            combo = input(\"Do you want to add combo? (yes/no) \")\n",
    "            if combo == \"yes\":\n",
    "                print(\"Yeah! combo is added successfully.\")\n",
    "                total=seats*bal_seat_price\n",
    "                total+=combo_price\n",
    "            else:\n",
    "                print(\"Ok, not an issue! \")\n",
    "                total=seats*bal_seat_price  \n",
    "        else:\n",
    "            print(\"Invalid input...try again\")\n",
    "            continue\n",
    "                    \n",
    "        print(\"-\"*30)\n",
    "        print(\"Customer's name: \",cus_name)\n",
    "        print(\"Customer's phone number: \",ph_no)\n",
    "        print(\"Bill: \",total)\n",
    "        print(\"-\"*30)\n",
    "            \n",
    "        next=input(\"Next Person? \")\n",
    "        if next == \"no\":\n",
    "            break"
   ]
  },
  {
   "cell_type": "code",
   "execution_count": null,
   "id": "38279ec5-93fb-4360-aeb4-6f9cd5dfd88b",
   "metadata": {},
   "outputs": [],
   "source": []
  },
  {
   "cell_type": "code",
   "execution_count": null,
   "id": "db260116-3d14-4345-a18d-42d0a2f5bf72",
   "metadata": {},
   "outputs": [],
   "source": []
  },
  {
   "cell_type": "code",
   "execution_count": null,
   "id": "41c8dfd8-cfb7-48c3-bab3-e57b4e8e1a6a",
   "metadata": {},
   "outputs": [],
   "source": []
  }
 ],
 "metadata": {
  "kernelspec": {
   "display_name": "Python 3 (ipykernel)",
   "language": "python",
   "name": "python3"
  },
  "language_info": {
   "codemirror_mode": {
    "name": "ipython",
    "version": 3
   },
   "file_extension": ".py",
   "mimetype": "text/x-python",
   "name": "python",
   "nbconvert_exporter": "python",
   "pygments_lexer": "ipython3",
   "version": "3.11.5"
  }
 },
 "nbformat": 4,
 "nbformat_minor": 5
}
